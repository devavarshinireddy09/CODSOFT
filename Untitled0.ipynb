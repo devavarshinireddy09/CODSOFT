{
  "nbformat": 4,
  "nbformat_minor": 0,
  "metadata": {
    "colab": {
      "provenance": []
    },
    "kernelspec": {
      "name": "python3",
      "display_name": "Python 3"
    },
    "language_info": {
      "name": "python"
    }
  },
  "cells": [
    {
      "cell_type": "code",
      "source": [
        "\n",
        "!pip install nltk\n",
        "\n",
        "import nltk\n",
        "import re\n",
        "from nltk.chat.util import Chat, reflections\n",
        "\n",
        "\n",
        "nltk.download('punkt')\n",
        "nltk.download('averaged_perceptron_tagger')\n",
        "\n",
        "pairs = [\n",
        "    [r\"my name is (.*)\", [\"Hello %1, Nice to meet you\",]],\n",
        "    [r\"hi|hey|hello\", [\"Hello, how can I help you?\", \"Hey there! What can I assist for you?\", \"Hi! How can I assist you today?\"]],\n",
        "    [r\"what is your name?\", [\"I am a chatbot created to assist you. You can call me Chatbot.\",]],\n",
        "    [r\"how are you?\", [\"I'm a Chatbot, so I don't have feelings, but I'm here to help you!\",]],\n",
        "    [r\"can you help me with (.*)\", [\"Sure, I here to help you with %1. Please provide more details.\",]],\n",
        "    [r\"sorry (.*)\", [\"It's okay. How can I help you?\",]],\n",
        "    [r\"thank you|thanks\", [\"You're welcome!\", \"No problem!\", \"Happy to help!\",\"Happy to share with you\",\"My pleasure\"]],\n",
        "    [r\"quit\", [\"Bye! Have a great day!\", \"Goodbye!\",\"See you later\",\"Until next time\"]],\n",
        "    [r\"(.*)\", [\"I'm sorry, I don't understand that. Can you rephrase?\", \"Could you please elaborate on that?\",\"Can you please clarify\"]]\n",
        "]\n",
        "\n",
        "\n",
        "class RuleBasedChatbot:\n",
        "    def __init__(self, pairs):\n",
        "        self.chat = Chat(pairs, reflections)\n",
        "\n",
        "    def respond(self, user_input):\n",
        "        return self.chat.respond(user_input)\n",
        "\n",
        "\n",
        "chatbot = RuleBasedChatbot(pairs)\n",
        "\n",
        "def chat_with_bot():\n",
        "    print(\"Hi, I'm your chatbot. Type 'quit' to exit.\")\n",
        "    while True:\n",
        "        user_input = input(\"You: \")\n",
        "        if user_input.lower() == 'quit':\n",
        "            print(\"Chatbot: Bye! Have a great day!\")\n",
        "            break\n",
        "        response = chatbot.respond(user_input)\n",
        "        print(f\"Chatbot: {response}\")\n",
        "\n",
        "\n",
        "chat_with_bot()\n"
      ],
      "metadata": {
        "colab": {
          "base_uri": "https://localhost:8080/"
        },
        "id": "8ZVuwqiUHSNq",
        "outputId": "b34c450f-cdcb-4004-fc94-d410b1327861"
      },
      "execution_count": null,
      "outputs": [
        {
          "output_type": "stream",
          "name": "stdout",
          "text": [
            "Requirement already satisfied: nltk in /usr/local/lib/python3.10/dist-packages (3.8.1)\n",
            "Requirement already satisfied: click in /usr/local/lib/python3.10/dist-packages (from nltk) (8.1.7)\n",
            "Requirement already satisfied: joblib in /usr/local/lib/python3.10/dist-packages (from nltk) (1.4.2)\n",
            "Requirement already satisfied: regex>=2021.8.3 in /usr/local/lib/python3.10/dist-packages (from nltk) (2024.9.11)\n",
            "Requirement already satisfied: tqdm in /usr/local/lib/python3.10/dist-packages (from nltk) (4.66.5)\n"
          ]
        },
        {
          "output_type": "stream",
          "name": "stderr",
          "text": [
            "[nltk_data] Downloading package punkt to /root/nltk_data...\n",
            "[nltk_data]   Unzipping tokenizers/punkt.zip.\n",
            "[nltk_data] Downloading package averaged_perceptron_tagger to\n",
            "[nltk_data]     /root/nltk_data...\n",
            "[nltk_data]   Unzipping taggers/averaged_perceptron_tagger.zip.\n"
          ]
        },
        {
          "output_type": "stream",
          "name": "stdout",
          "text": [
            "Hi, I'm your chatbot. Type 'quit' to exit.\n",
            "You: hello\n",
            "Chatbot: Hello, how can I help you?\n",
            "You: My name Varshu\n",
            "Chatbot: Could you please elaborate on that?\n"
          ]
        }
      ]
    },
    {
      "cell_type": "code",
      "execution_count": null,
      "metadata": {
        "id": "wNWbPojGDCUO"
      },
      "outputs": [],
      "source": []
    }
  ]
}