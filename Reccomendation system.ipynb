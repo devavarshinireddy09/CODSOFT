{
  "nbformat": 4,
  "nbformat_minor": 0,
  "metadata": {
    "colab": {
      "provenance": []
    },
    "kernelspec": {
      "name": "python3",
      "display_name": "Python 3"
    },
    "language_info": {
      "name": "python"
    }
  },
  "cells": [
    {
      "cell_type": "code",
      "execution_count": 2,
      "metadata": {
        "id": "XFpPkHX2Vlta"
      },
      "outputs": [],
      "source": [
        "# Import necessary libraries for data analysis and visualization\n",
        "import numpy as np\n",
        "import pandas as pd\n",
        "import sklearn\n",
        "import matplotlib.pyplot as plt\n",
        "import seaborn as sns\n",
        "import warnings\n",
        "warnings.simplefilter(action='ignore', category=FutureWarning)"
      ]
    },
    {
      "cell_type": "code",
      "source": [
        "# Load the ratings dataset\n",
        "ratings = pd.read_csv(\"https://s3-us-west-2.amazonaws.com/recommender-tutorial/ratings.csv\")\n",
        "print(ratings.head())\n",
        "\n",
        "# Load the movies dataset\n",
        "movies = pd.read_csv(\"https://s3-us-west-2.amazonaws.com/recommender-tutorial/movies.csv\")\n",
        "print(movies.head())"
      ],
      "metadata": {
        "colab": {
          "base_uri": "https://localhost:8080/"
        },
        "id": "mcGt2Tt8WqqH",
        "outputId": "a3fb9b6e-68cb-42bf-b7b6-4dc02f571c27"
      },
      "execution_count": 3,
      "outputs": [
        {
          "output_type": "stream",
          "name": "stdout",
          "text": [
            "   userId  movieId  rating  timestamp\n",
            "0       1        1     4.0  964982703\n",
            "1       1        3     4.0  964981247\n",
            "2       1        6     4.0  964982224\n",
            "3       1       47     5.0  964983815\n",
            "4       1       50     5.0  964982931\n",
            "   movieId                               title  \\\n",
            "0        1                    Toy Story (1995)   \n",
            "1        2                      Jumanji (1995)   \n",
            "2        3             Grumpier Old Men (1995)   \n",
            "3        4            Waiting to Exhale (1995)   \n",
            "4        5  Father of the Bride Part II (1995)   \n",
            "\n",
            "                                        genres  \n",
            "0  Adventure|Animation|Children|Comedy|Fantasy  \n",
            "1                   Adventure|Children|Fantasy  \n",
            "2                               Comedy|Romance  \n",
            "3                         Comedy|Drama|Romance  \n",
            "4                                       Comedy  \n"
          ]
        }
      ]
    },
    {
      "cell_type": "code",
      "source": [
        "# Calculate the number of ratings, unique movies, and unique users\n",
        "n_ratings = len(ratings)\n",
        "n_movies = len(ratings['movieId'].unique())\n",
        "n_users = len(ratings['userId'].unique())\n",
        "\n",
        "# Calculate the average ratings per user and per movie\n",
        "avg_ratings_per_user = round(n_ratings / n_users, 2)\n",
        "avg_ratings_per_movie = round(n_ratings / n_movies, 2)\n",
        "\n",
        "print(f\"Number of ratings: {n_ratings}\")\n",
        "print(f\"Number of unique movies: {n_movies}\")\n",
        "print(f\"Number of unique users: {n_users}\")\n",
        "print(f\"Average ratings per user: {avg_ratings_per_user}\")\n",
        "print(f\"Average ratings per movie: {avg_ratings_per_movie}\")"
      ],
      "metadata": {
        "colab": {
          "base_uri": "https://localhost:8080/"
        },
        "id": "klk6kiRcWz1G",
        "outputId": "13956b67-25b6-4cdf-e9df-42fe5eaa6309"
      },
      "execution_count": 4,
      "outputs": [
        {
          "output_type": "stream",
          "name": "stdout",
          "text": [
            "Number of ratings: 100836\n",
            "Number of unique movies: 9724\n",
            "Number of unique users: 610\n",
            "Average ratings per user: 165.3\n",
            "Average ratings per movie: 10.37\n"
          ]
        }
      ]
    },
    {
      "cell_type": "code",
      "source": [
        "# Calculate the frequency of ratings for each user\n",
        "user_freq = ratings[['userId', 'movieId']].groupby('userId').count().reset_index()\n",
        "user_freq.columns = ['userId', 'n_ratings']\n",
        "print(user_freq.head())"
      ],
      "metadata": {
        "colab": {
          "base_uri": "https://localhost:8080/"
        },
        "id": "gFbchEMNW4tX",
        "outputId": "ff37acbd-2514-482c-bec2-da29459a5af6"
      },
      "execution_count": 5,
      "outputs": [
        {
          "output_type": "stream",
          "name": "stdout",
          "text": [
            "   userId  n_ratings\n",
            "0       1        232\n",
            "1       2         29\n",
            "2       3         39\n",
            "3       4        216\n",
            "4       5         44\n"
          ]
        }
      ]
    },
    {
      "cell_type": "code",
      "source": [
        "# Calculate the average rating for each movie\n",
        "mean_rating = ratings.groupby('movieId')[['rating']].mean()\n",
        "\n",
        "# Find the lowest and highest rated movies\n",
        "lowest_rated = mean_rating['rating'].idxmin()\n",
        "highest_rated = mean_rating['rating'].idxmax()\n",
        "\n",
        "# Print the information about the lowest and highest rated movies\n",
        "print(movies.loc[movies['movieId'] == lowest_rated])\n",
        "print(movies.loc[movies['movieId'] == highest_rated])\n",
        "\n",
        "# Calculate the number of people who rated the lowest and highest rated movies\n",
        "print(ratings[ratings['movieId'] == lowest_rated])\n",
        "print(ratings[ratings['movieId'] == highest_rated])"
      ],
      "metadata": {
        "colab": {
          "base_uri": "https://localhost:8080/"
        },
        "id": "7EpB2D8-XADn",
        "outputId": "c9b44d32-649c-4012-a142-4cee2f659fe4"
      },
      "execution_count": 6,
      "outputs": [
        {
          "output_type": "stream",
          "name": "stdout",
          "text": [
            "      movieId         title   genres\n",
            "2689     3604  Gypsy (1962)  Musical\n",
            "    movieId            title           genres\n",
            "48       53  Lamerica (1994)  Adventure|Drama\n",
            "       userId  movieId  rating   timestamp\n",
            "13633      89     3604     0.5  1520408880\n",
            "       userId  movieId  rating  timestamp\n",
            "13368      85       53     5.0  889468268\n",
            "96115     603       53     5.0  963180003\n"
          ]
        }
      ]
    },
    {
      "cell_type": "code",
      "source": [
        "# Create a user-item matrix using scipy csr matrix\n",
        "from scipy.sparse import csr_matrix\n",
        "\n",
        "def create_matrix(df):\n",
        "    N = len(df['userId'].unique())\n",
        "    M = len(df['movieId'].unique())\n",
        "\n",
        "    # Map user and movie IDs to indices\n",
        "    user_mapper = dict(zip(np.unique(df[\"userId\"]), list(range(N))))\n",
        "    movie_mapper = dict(zip(np.unique(df[\"movieId\"]), list(range(M))))\n",
        "\n",
        "    # Map indices to user and movie IDs\n",
        "    user_inv_mapper = dict(zip(list(range(N)), np.unique(df[\"userId\"])))\n",
        "    movie_inv_mapper = dict(zip(list(range(M)), np.unique(df[\"movieId\"])))\n",
        "\n",
        "    # Create the user-item matrix\n",
        "    user_index = [user_mapper[i] for i in df['userId']]\n",
        "    movie_index = [movie_mapper[i] for i in df['movieId']]\n",
        "    X = csr_matrix((df[\"rating\"], (movie_index, user_index)), shape=(M, N))\n",
        "\n",
        "    return X, user_mapper, movie_mapper, user_inv_mapper, movie_inv_mapper\n",
        "\n",
        "X, user_mapper, movie_mapper, user_inv_mapper, movie_inv_mapper = create_matrix(ratings)"
      ],
      "metadata": {
        "id": "uGZFQglNXDd9"
      },
      "execution_count": 12,
      "outputs": []
    },
    {
      "cell_type": "code",
      "source": [
        "# Find similar movies using KNN\n",
        "from sklearn.neighbors import NearestNeighbors\n",
        "\n",
        "def find_similar_movies(movie_id, X, k, metric='cosine', show_distance=False):\n",
        "    neighbour_ids = []\n",
        "\n",
        "    movie_ind = movie_mapper[movie_id]\n",
        "    movie_vec = X[movie_ind]\n",
        "    k += 1\n",
        "    kNN = NearestNeighbors(n_neighbors=k, algorithm=\"brute\", metric=metric)\n",
        "    kNN.fit(X)\n",
        "    movie_vec = movie_vec.reshape(1, -1)\n",
        "    neighbour = kNN.kneighbors(movie_vec, return_distance=show_distance)\n",
        "    for i in range(0, k):\n",
        "        n = neighbour.item(i)\n",
        "        neighbour_ids.append(movie_inv_mapper[n])\n",
        "    neighbour_ids.pop(0)\n",
        "    return neighbour_ids\n",
        "\n",
        "movie_titles = dict(zip(movies['movieId'], movies['title']))\n",
        "\n",
        "movie_id = 3\n",
        "similar_ids = find_similar_movies(movie_id, X, k=10)\n",
        "movie_title = movie_titles.get(movie_id, \"Movie not found\")\n",
        "\n",
        "print(f\"Since you watched {movie_title}\")\n",
        "for i in similar_ids:\n",
        "    print(movie_titles[i])"
      ],
      "metadata": {
        "colab": {
          "base_uri": "https://localhost:8080/"
        },
        "id": "HlhlyRNtXn8w",
        "outputId": "3219ba4d-411e-4a9b-9a71-4df312e9a118"
      },
      "execution_count": 15,
      "outputs": [
        {
          "output_type": "stream",
          "name": "stdout",
          "text": [
            "Since you watched Grumpier Old Men (1995)\n",
            "Grumpy Old Men (1993)\n",
            "Striptease (1996)\n",
            "Nutty Professor, The (1996)\n",
            "Twister (1996)\n",
            "Father of the Bride Part II (1995)\n",
            "Broken Arrow (1996)\n",
            "Bio-Dome (1996)\n",
            "Truth About Cats & Dogs, The (1996)\n",
            "Sabrina (1995)\n",
            "Birdcage, The (1996)\n"
          ]
        }
      ]
    },
    {
      "cell_type": "code",
      "source": [
        "def recommend_movies_for_user(user_id, X, user_mapper, movie_mapper, movie_inv_mapper, k=10):\n",
        "    df1 = ratings[ratings['userId'] == user_id]\n",
        "\n",
        "    if df1.empty:\n",
        "        print(f\"User with ID {user_id} does not exist.\")\n",
        "        return\n",
        "\n",
        "    movie_id = df1[df1['rating'] == max(df1['rating'])]['movieId'].iloc[0]\n",
        "\n",
        "    movie_titles = dict(zip(movies['movieId'], movies['title']))\n",
        "\n",
        "    similar_ids = find_similar_movies(movie_id, X, k)\n",
        "    movie_title = movie_titles.get(movie_id, \"Movie not found\")\n",
        "\n",
        "    if movie_title == \"Movie not found\":\n",
        "        print(f\"Movie with ID {movie_id} not found.\")\n",
        "        return\n",
        "\n",
        "    print(f\"Since you watched {movie_title}, you might also like:\")\n",
        "    for i in similar_ids:\n",
        "        print(movie_titles.get(i, \"Movie not found\"))\n"
      ],
      "metadata": {
        "id": "F_w_kt2JYDqD"
      },
      "execution_count": 16,
      "outputs": []
    },
    {
      "cell_type": "code",
      "source": [
        "user_id = 150  # Replace with the desired user ID\n",
        "recommend_movies_for_user(user_id, X, user_mapper, movie_mapper, movie_inv_mapper, k=10)\n"
      ],
      "metadata": {
        "colab": {
          "base_uri": "https://localhost:8080/"
        },
        "id": "If9OkrSJYRSr",
        "outputId": "8504decc-e046-4cb9-dd74-f578b7f4ef12"
      },
      "execution_count": 17,
      "outputs": [
        {
          "output_type": "stream",
          "name": "stdout",
          "text": [
            "Since you watched Twelve Monkeys (a.k.a. 12 Monkeys) (1995), you might also like:\n",
            "Pulp Fiction (1994)\n",
            "Terminator 2: Judgment Day (1991)\n",
            "Independence Day (a.k.a. ID4) (1996)\n",
            "Seven (a.k.a. Se7en) (1995)\n",
            "Fargo (1996)\n",
            "Fugitive, The (1993)\n",
            "Usual Suspects, The (1995)\n",
            "Jurassic Park (1993)\n",
            "Star Wars: Episode IV - A New Hope (1977)\n",
            "Heat (1995)\n"
          ]
        }
      ]
    },
    {
      "cell_type": "code",
      "source": [
        "user_id = 415  # Replace with the desired user ID\n",
        "recommend_movies_for_user(user_id, X, user_mapper, movie_mapper, movie_inv_mapper, k=10)\n"
      ],
      "metadata": {
        "colab": {
          "base_uri": "https://localhost:8080/"
        },
        "id": "Uzi5wuX1YTvo",
        "outputId": "4fa155a2-b502-42d6-a125-0a8959f7a177"
      },
      "execution_count": 18,
      "outputs": [
        {
          "output_type": "stream",
          "name": "stdout",
          "text": [
            "Since you watched Pulp Fiction (1994), you might also like:\n",
            "Silence of the Lambs, The (1991)\n",
            "Shawshank Redemption, The (1994)\n",
            "Seven (a.k.a. Se7en) (1995)\n",
            "Forrest Gump (1994)\n",
            "Usual Suspects, The (1995)\n",
            "Braveheart (1995)\n",
            "Fight Club (1999)\n",
            "Fargo (1996)\n",
            "Terminator 2: Judgment Day (1991)\n",
            "Reservoir Dogs (1992)\n"
          ]
        }
      ]
    }
  ]
}